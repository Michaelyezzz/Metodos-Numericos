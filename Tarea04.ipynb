{
 "cells": [
  {
   "cell_type": "markdown",
   "id": "de2c49c3",
   "metadata": {},
   "source": [
    "**ESCUELA POLITECNICA NACIONAL**\n",
    "\n",
    "\n",
    "**FACULTAD DE INGENIERIA DE SISTEMAS**\n",
    "\n",
    "| **Campo**        | **Información** |\n",
    "|------------------|-----------------|\n",
    "| **Nombre:**      |**Michael Yànez**|\n",
    "| **Asignatura:**  | **Metodos Nùmericos**  |\n",
    "| **Docente:**     | **Ing. Alejandro Zea**                |\n"
   ]
  },
  {
   "cell_type": "markdown",
   "id": "996bd8c8-cb56-4b13-880e-71818374616c",
   "metadata": {},
   "source": [
    "1. Use el método de bisección para encontrar soluciones precisas dentro de 10^{-2} para $x^3-7x^2+14x-6=0$ en cada intervalo."
   ]
  },
  {
   "cell_type": "markdown",
   "id": "492b87e5-365d-40e0-8f0c-511a9a0c9d3b",
   "metadata": {},
   "source": [
    "a) $[0,1]$"
   ]
  },
  {
   "cell_type": "code",
   "execution_count": 1,
   "id": "9d3c4e18-e217-464e-9720-fa083c396e27",
   "metadata": {},
   "outputs": [],
   "source": [
    "def metodo_biseccion(funcion, inicio, fin, tolerancia=1e-5):\n",
    "    if funcion(inicio) * funcion(fin) >= 0:\n",
    "        print(\"La función no cambia de signo en el intervalo dado. Puede que no haya raíces o haya múltiples raíces.\")\n",
    "        return None\n",
    "    while abs(fin - inicio) >= tolerancia:\n",
    "        punto_medio = (inicio + fin) / 2\n",
    "        valor_medio = funcion(punto_medio)\n",
    "        if valor_medio == 0:\n",
    "            return punto_medio\n",
    "        if funcion(inicio) * valor_medio < 0:\n",
    "            fin = punto_medio\n",
    "        else:\n",
    "            inicio = punto_medio\n",
    "    return (inicio + fin) / 2\n",
    "def F(x):\n",
    "    return x**3 - 7*x**2 + 14*x - 6\n"
   ]
  },
  {
   "cell_type": "code",
   "execution_count": 2,
   "id": "d0712440-47d1-40ff-8af6-2e46b295a824",
   "metadata": {},
   "outputs": [
    {
     "name": "stdout",
     "output_type": "stream",
     "text": [
      "La raíz en el intervalo [0, 1] es: 0.5857887268066406\n"
     ]
    }
   ],
   "source": [
    "intervalo_inicio, intervalo_fin = 0, 1\n",
    "raiz = metodo_biseccion(F, intervalo_inicio, intervalo_fin)\n",
    "print(f\"La raíz en el intervalo [{intervalo_inicio}, {intervalo_fin}] es: {raiz}\")\n"
   ]
  },
  {
   "cell_type": "markdown",
   "id": "04fdc2a3-6ce5-4d75-b77e-b2cb79b5bc57",
   "metadata": {},
   "source": [
    "b)$[1,3.2]$"
   ]
  },
  {
   "cell_type": "code",
   "execution_count": 3,
   "id": "446a6d6f-7583-45d4-911f-3a87c1512e63",
   "metadata": {},
   "outputs": [
    {
     "name": "stdout",
     "output_type": "stream",
     "text": [
      "La raíz en el intervalo [1, 3.2] es: 2.9999980926513676\n"
     ]
    }
   ],
   "source": [
    "inicio_intervalo, fin_intervalo = 1, 3.2\n",
    "raiz = metodo_biseccion(F, inicio_intervalo, fin_intervalo)\n",
    "print(f\"La raíz en el intervalo [{inicio_intervalo}, {fin_intervalo}] es: {raiz}\")\n"
   ]
  },
  {
   "cell_type": "markdown",
   "id": "628cb26e-4a56-4468-9f7d-aa69f6e5d008",
   "metadata": {},
   "source": [
    "c)$[3.2,4]$"
   ]
  },
  {
   "cell_type": "code",
   "execution_count": 4,
   "id": "0d284d6e-e546-491b-9527-0f403bfcb104",
   "metadata": {},
   "outputs": [
    {
     "name": "stdout",
     "output_type": "stream",
     "text": [
      "La función no cambia de signo en el intervalo dado. Puede que no haya raíces o haya múltiples raíces.\n",
      "La raíz en el intervalo [3, 2.4] es: None\n"
     ]
    }
   ],
   "source": [
    "inicio_intervalo, fin_intervalo = 3, 2.4\n",
    "raiz = metodo_biseccion(F, inicio_intervalo, fin_intervalo)\n",
    "print(f\"La raíz en el intervalo [{inicio_intervalo}, {fin_intervalo}] es: {raiz}\")\n"
   ]
  },
  {
   "cell_type": "markdown",
   "id": "700a9c81",
   "metadata": {},
   "source": [
    "### Ejercicio 2\n",
    "2.1 Dibuje las gráficas para 𝑦 = 𝑥 y 𝑦 = sin 𝑥."
   ]
  },
  {
   "cell_type": "code",
   "execution_count": 30,
   "id": "49dad45c",
   "metadata": {},
   "outputs": [
    {
     "data": {
      "image/png": "[encoded data removed]",
      "text/plain": [
       "<Figure size 1000x600 with 1 Axes>"
      ]
     },
     "metadata": {},
     "output_type": "display_data"
    }
   ],
   "source": [
    "import numpy as np\n",
    "import matplotlib.pyplot as plt\n",
    "\n",
    "x = np.linspace(-np.pi/2 + 0.1, np.pi/2 - 0.1, 400)\n",
    "y1 = x          # y = x\n",
    "y2 = np.sin(x)  # y = sin(x)\n",
    "\n",
    "# Crear la gráfica\n",
    "plt.figure(figsize=(10, 6))\n",
    "plt.plot(x, y1, label=\"y = x\", color='blue')\n",
    "plt.plot(x, y2, label=\"y = sin(x)\", color='red')\n",
    "plt.xlabel(\"x\")\n",
    "plt.ylabel(\"y\")\n",
    "plt.title(\"Gráfica de y = x y y = sin(x)\")  \n",
    "plt.legend()\n",
    "plt.grid(True)\n",
    "plt.ylim(-5, 5)\n",
    "\n",
    "plt.show()"
   ]
  },
  {
   "cell_type": "markdown",
   "id": "0ea11d8d-096b-42fa-8e05-de2a7e9c618c",
   "metadata": {},
   "source": [
    " 2.2.)Use el método de bisección para encontrar soluciones precisas dentro de 10 elevado -5 para el primer valor positivo\n",
    "de 𝑥 con 𝑥 = 2 sin 𝑥. "
   ]
  },
  {
   "cell_type": "code",
   "execution_count": 36,
   "id": "3e8d1759",
   "metadata": {},
   "outputs": [
    {
     "name": "stdout",
     "output_type": "stream",
     "text": [
      "La función no cambia de signo en el intervalo dado.\n",
      "La primera solución positiva de x = 2sin(x) es aproximadamente: None\n"
     ]
    }
   ],
   "source": [
    "import numpy as np\n",
    "\n",
    "def f(x):\n",
    "    return x - 2*np.sin(x)\n",
    "\n",
    "def metodo_biseccion(funcion, inicio, fin, tolerancia=1e-5):\n",
    "    if funcion(inicio) * funcion(fin) >= 0:\n",
    "        print(\"La función no cambia de signo en el intervalo dado.\")\n",
    "        return None\n",
    "    \n",
    "    while abs(fin - inicio) >= tolerancia:\n",
    "        punto_medio = (inicio + fin) / 2\n",
    "        valor_medio = funcion(punto_medio)\n",
    "        \n",
    "        if abs(valor_medio) < tolerancia:\n",
    "            return punto_medio\n",
    "        if funcion(inicio) * valor_medio < 0:\n",
    "            fin = punto_medio\n",
    "        else:\n",
    "            inicio = punto_medio\n",
    "            \n",
    "    return (inicio + fin) / 2\n",
    "\n",
    "# La primera solución positiva está entre 0 y π/2\n",
    "inicio, fin = 0, np.pi/2\n",
    "raiz = metodo_biseccion(f, inicio, fin)\n",
    "print(f\"La primera solución positiva de x = 2sin(x) es aproximadamente: {raiz}\")"
   ]
  },
  {
   "cell_type": "markdown",
   "id": "46023a02",
   "metadata": {},
   "source": [
    "### Ejercicio 3\n",
    "3.1. Dibuje las gráficas para 𝑦 = 𝑥 y 𝑦 = tan 𝑥. \n"
   ]
  },
  {
   "cell_type": "code",
   "execution_count": 37,
   "id": "8d5d8dee-c5de-41a9-b1d9-175bbdf10cc9",
   "metadata": {},
   "outputs": [
    {
     "data": {
      "image/png": "[encoded data removed]",
      "text/plain": [
       "<Figure size 1000x600 with 1 Axes>"
      ]
     },
     "metadata": {},
     "output_type": "display_data"
    }
   ],
   "source": [
    "import numpy as np\n",
    "import matplotlib.pyplot as plt\n",
    "\n",
    "x = np.linspace(-np.pi/2 + 0.1, np.pi/2 - 0.1, 400)\n",
    "y1 = x          # y = x\n",
    "y2 = np.tan(x)  # y = tan(x)\n",
    "\n",
    "# Crear la gráfica\n",
    "plt.figure(figsize=(10, 6))\n",
    "plt.plot(x, y1, label=\"y = x\", color='blue')\n",
    "plt.plot(x, y2, label=\"y = tan(x)\", color='red')\n",
    "plt.xlabel(\"x\")\n",
    "plt.ylabel(\"y\")\n",
    "plt.title(\"Gráfica de y = x y y = tan(x)\")\n",
    "plt.legend()\n",
    "plt.grid(True)\n",
    "plt.ylim(-5, 5)\n",
    "\n",
    "plt.show()"
   ]
  },
  {
   "cell_type": "markdown",
   "id": "c9c5eac1-0996-4bfe-b655-08886545ee8c",
   "metadata": {},
   "source": [
    "3.2.) Use el método de bisección para encontrar una aproximación dentro de 10 elevado a -5 para el primer valor positivo\n",
    "de 𝑥 con 𝑥 = tan 𝑥."
   ]
  },
  {
   "cell_type": "code",
   "execution_count": 38,
   "id": "a20b3fa7-93ca-49d3-9e9d-9e23c47b392f",
   "metadata": {},
   "outputs": [
    {
     "name": "stdout",
     "output_type": "stream",
     "text": [
      "La primera solución positiva de x = tan(x) es aproximadamente: 4.493412017822266\n"
     ]
    }
   ],
   "source": [
    "import numpy as np\n",
    "\n",
    "def f(x):\n",
    "    return x - np.tan(x)\n",
    "\n",
    "def metodo_biseccion(funcion, inicio, fin, tolerancia=1e-5):\n",
    "    if funcion(inicio) * funcion(fin) >= 0:\n",
    "        print(\"La función no cambia de signo en el intervalo dado.\")\n",
    "        return None\n",
    "    \n",
    "    while abs(fin - inicio) >= tolerancia:\n",
    "        punto_medio = (inicio + fin) / 2\n",
    "        valor_medio = funcion(punto_medio)\n",
    "        \n",
    "        if abs(valor_medio) < tolerancia:\n",
    "            return punto_medio\n",
    "        if funcion(inicio) * valor_medio < 0:\n",
    "            fin = punto_medio\n",
    "        else:\n",
    "            inicio = punto_medio\n",
    "            \n",
    "    return (inicio + fin) / 2\n",
    "\n",
    "# La primera solución positiva está entre 4.0 y 4.5\n",
    "inicio, fin = 4.0, 4.5\n",
    "raiz = metodo_biseccion(f, inicio, fin)\n",
    "print(f\"La primera solución positiva de x = tan(x) es aproximadamente: {raiz}\")"
   ]
  },
  {
   "cell_type": "markdown",
   "id": "701369e3",
   "metadata": {},
   "source": [
    "### Ejercico 4\n",
    "4.1. Dibuje las gráficas para $y = x^2 - 1$ y $y = e^{1 - x^2}$."
   ]
  },
  {
   "cell_type": "code",
   "execution_count": 43,
   "id": "202bdb52",
   "metadata": {},
   "outputs": [
    {
     "data": {
      "image/png": "[encoded data removed]",
      "text/plain": [
       "<Figure size 1000x600 with 1 Axes>"
      ]
     },
     "metadata": {},
     "output_type": "display_data"
    }
   ],
   "source": [
    "import numpy as np\n",
    "import matplotlib.pyplot as plt\n",
    "\n",
    "# Crear un array de valores x\n",
    "x = np.linspace(-3, 3, 400)\n",
    "\n",
    "# Calcular los valores y para cada función\n",
    "y1 = x**2 - 1        # y = x^2 - 1\n",
    "y2 = np.exp(1 - x**2)  # y = e^(1-x^2)\n",
    "\n",
    "# Crear la gráfica\n",
    "plt.figure(figsize=(10, 6))\n",
    "plt.plot(x, y1, label=\"y = x² - 1\", color='blue')\n",
    "plt.plot(x, y2, label=\"y = e^(1-x²)\", color='red')\n",
    "plt.xlabel(\"x\")\n",
    "plt.ylabel(\"y\")\n",
    "plt.title(\"Gráfica de y = x² - 1 y y = e^(1-x²)\")\n",
    "plt.legend()\n",
    "plt.grid(True)\n",
    "plt.ylim(-2, 3)  # Ajustar límites del eje y para mejor visualización\n",
    "\n",
    "plt.show()"
   ]
  },
  {
   "cell_type": "markdown",
   "id": "a9857e50",
   "metadata": {},
   "source": [
    "4.1. Use el método de bisección para encontrar una aproximación dentro de $10^{-3}$ para un valor en $[-2,\\ 0]$ con  \n",
    "$x^2 - 1 = e^{1 - x^2}$."
   ]
  },
  {
   "cell_type": "code",
   "execution_count": 47,
   "id": "669c1640",
   "metadata": {},
   "outputs": [
    {
     "name": "stdout",
     "output_type": "stream",
     "text": [
      "La raíz en el intervalo [-2, 0] es aproximadamente: -1.251953125\n"
     ]
    }
   ],
   "source": [
    "import numpy as np\n",
    "\n",
    "def f(x):\n",
    "    return x**2 - 1 - np.exp(1 - x**2)  # Reordenando: x^2 - 1 - e^(1-x^2) = 0\n",
    "\n",
    "def metodo_biseccion(funcion, inicio, fin, tolerancia=1e-3):\n",
    "    if funcion(inicio) * funcion(fin) >= 0:\n",
    "        print(\"La función no cambia de signo en el intervalo dado.\")\n",
    "        return None\n",
    "    \n",
    "    while abs(fin - inicio) >= tolerancia:\n",
    "        punto_medio = (inicio + fin) / 2\n",
    "        valor_medio = funcion(punto_medio)\n",
    "        \n",
    "        if abs(valor_medio) < tolerancia:\n",
    "            return punto_medio\n",
    "        if funcion(inicio) * valor_medio < 0:\n",
    "            fin = punto_medio\n",
    "        else:\n",
    "            inicio = punto_medio\n",
    "            \n",
    "    return (inicio + fin) / 2\n",
    "\n",
    "# Buscamos la raíz en el intervalo [-2, 0]\n",
    "inicio, fin = -2, 0\n",
    "raiz = metodo_biseccion(f, inicio, fin, tolerancia=1e-3)\n",
    "print(f\"La raíz en el intervalo [-2, 0] es aproximadamente: {raiz}\")"
   ]
  },
  {
   "cell_type": "markdown",
   "id": "2edf03d1",
   "metadata": {},
   "source": [
    "### Ejercicio 5\n",
    "\n",
    "5.1. Sea $f(x) = (x + 3)(x + 1)^2 x (x - 1)^3 (x - 3)$. ¿En qué cero de $f$ converge el método de bisección cuando  \n",
    "se aplica en los siguientes intervalos\n",
    "a. $[-1.5,\\ 2.5]$  "
   ]
  },
  {
   "cell_type": "code",
   "execution_count": 51,
   "id": "2c5e8edf",
   "metadata": {},
   "outputs": [
    {
     "name": "stdout",
     "output_type": "stream",
     "text": [
      "La función no cambia de signo en el intervalo dado.\n",
      "La raíz en el intervalo [-1.5, 2.5] es aproximadamente: None\n"
     ]
    }
   ],
   "source": [
    "import numpy as np\n",
    "\n",
    "def f(x):\n",
    "    return (x + 3)*(x + 1)**2 * x * (x - 1)**3 * (x - 3)\n",
    "\n",
    "def metodo_biseccion(funcion, inicio, fin, tolerancia=1e-5):\n",
    "    if funcion(inicio) * funcion(fin) >= 0:\n",
    "        print(\"La función no cambia de signo en el intervalo dado.\")\n",
    "        return None\n",
    "    \n",
    "    iteraciones = 0\n",
    "    while abs(fin - inicio) >= tolerancia:\n",
    "        punto_medio = (inicio + fin) / 2\n",
    "        valor_medio = funcion(punto_medio)\n",
    "        \n",
    "        if abs(valor_medio) < tolerancia:\n",
    "            return punto_medio\n",
    "        if funcion(inicio) * valor_medio < 0:\n",
    "            fin = punto_medio\n",
    "        else:\n",
    "            inicio = punto_medio\n",
    "        iteraciones += 1\n",
    "            \n",
    "    return (inicio + fin) / 2\n",
    "\n",
    "# Intervalo a) [-1.5, 2.5]\n",
    "inicio, fin = -1.5, 2.5\n",
    "raiz = metodo_biseccion(f, inicio, fin)\n",
    "print(f\"La raíz en el intervalo [-1.5, 2.5] es aproximadamente: {raiz}\")"
   ]
  },
  {
   "cell_type": "markdown",
   "id": "fe10fafe",
   "metadata": {},
   "source": [
    "b. $[-0.5,\\ 2.4]$ "
   ]
  },
  {
   "cell_type": "code",
   "execution_count": null,
   "id": "8b3d8842",
   "metadata": {},
   "outputs": [],
   "source": [
    "def f(x):\n",
    "    return (x + 3)*(x + 1)**2 * x * (x - 1)**3 * (x - 3)\n",
    "\n",
    "def metodo_biseccion(funcion, inicio, fin, tolerancia=1e-5):\n",
    "    if funcion(inicio) * funcion(fin) >= 0:\n",
    "        print(\"La función no cambia de signo en el intervalo dado.\")\n",
    "        return None\n",
    "    \n",
    "    while abs(fin - inicio) >= tolerancia:\n",
    "        punto_medio = (inicio + fin) / 2\n",
    "        valor_medio = funcion(punto_medio)\n",
    "        \n",
    "        if abs(valor_medio) < tolerancia:\n",
    "            return punto_medio\n",
    "        if funcion(inicio) * valor_medio < 0:\n",
    "            fin = punto_medio\n",
    "        else:\n",
    "            inicio = punto_medio\n",
    "            \n",
    "    return (inicio + fin) / 2\n",
    "\n",
    "# Intervalo b) [-0.5, 2.4]\n",
    "inicio, fin = -0.5, 2.4\n",
    "raiz = metodo_biseccion(f, inicio, fin)\n",
    "print(f\"La raíz en el intervalo [-0.5, 2.4] es aproximadamente: {raiz}\")"
   ]
  },
  {
   "cell_type": "markdown",
   "id": "0e4eece5",
   "metadata": {},
   "source": [
    "c. $[-0.5,\\ 3]$  \n"
   ]
  },
  {
   "cell_type": "code",
   "execution_count": 55,
   "id": "a1d1039b",
   "metadata": {},
   "outputs": [
    {
     "name": "stdout",
     "output_type": "stream",
     "text": [
      "La función no cambia de signo en el intervalo dado.\n",
      "La raíz en el intervalo [-0.5, 3] es aproximadamente: None\n"
     ]
    }
   ],
   "source": [
    "def f(x):\n",
    "    return (x + 3)*(x + 1)**2 * x * (x - 1)**3 * (x - 3)\n",
    "\n",
    "def metodo_biseccion(funcion, inicio, fin, tolerancia=1e-5):\n",
    "    if funcion(inicio) * funcion(fin) >= 0:\n",
    "        print(\"La función no cambia de signo en el intervalo dado.\")\n",
    "        return None\n",
    "    \n",
    "    while abs(fin - inicio) >= tolerancia:\n",
    "        punto_medio = (inicio + fin) / 2\n",
    "        valor_medio = funcion(punto_medio)\n",
    "        \n",
    "        if abs(valor_medio) < tolerancia:\n",
    "            return punto_medio\n",
    "        if funcion(inicio) * valor_medio < 0:\n",
    "            fin = punto_medio\n",
    "        else:\n",
    "            inicio = punto_medio\n",
    "            \n",
    "    return (inicio + fin) / 2\n",
    "\n",
    "# Intervalo c) [-0.5, 3]\n",
    "inicio, fin = -0.5, 3\n",
    "raiz = metodo_biseccion(f, inicio, fin)\n",
    "print(f\"La raíz en el intervalo [-0.5, 3] es aproximadamente: {raiz}\")"
   ]
  },
  {
   "cell_type": "markdown",
   "id": "2fd16499",
   "metadata": {},
   "source": [
    "d. $[-3,\\ -0.5]$"
   ]
  },
  {
   "cell_type": "code",
   "execution_count": 59,
   "id": "190d2663",
   "metadata": {},
   "outputs": [
    {
     "name": "stdout",
     "output_type": "stream",
     "text": [
      "La función no cambia de signo en el intervalo dado.\n",
      "La raíz en el intervalo [-3, -0.5] es aproximadamente: None\n"
     ]
    }
   ],
   "source": [
    "def f(x):\n",
    "    return (x + 3)*(x + 1)**2 * x * (x - 1)**3 * (x - 3)\n",
    "\n",
    "def metodo_biseccion(funcion, inicio, fin, tolerancia=1e-5):\n",
    "    if funcion(inicio) * funcion(fin) >= 0:\n",
    "        print(\"La función no cambia de signo en el intervalo dado.\")\n",
    "        return None\n",
    "    \n",
    "    while abs(fin - inicio) >= tolerancia:\n",
    "        punto_medio = (inicio + fin) / 2\n",
    "        valor_medio = funcion(punto_medio)\n",
    "        \n",
    "        if abs(valor_medio) < tolerancia:\n",
    "            return punto_medio\n",
    "        if funcion(inicio) * valor_medio < 0:\n",
    "            fin = punto_medio\n",
    "        else:\n",
    "            inicio = punto_medio\n",
    "            \n",
    "    return (inicio + fin) / 2\n",
    "\n",
    "# Intervalo d) [-3, -0.5]\n",
    "inicio, fin = -3, -0.5\n",
    "raiz = metodo_biseccion(f, inicio, fin)\n",
    "print(f\"La raíz en el intervalo [-3, -0.5] es aproximadamente: {raiz}\")"
   ]
  },
  {
   "cell_type": "markdown",
   "id": "5bd0a47b-ffff-42b5-8c3d-f58a4259506f",
   "metadata": {},
   "source": [
    "## Ejercicios Aplicados\n",
    "Un abrevadero de longitud $L$ tiene una sección transversal en forma de semicírculo con radio $r$. (Consulte la  \n",
    "figura adjunta.) Cuando se llena con agua hasta una distancia $h$ a partir de la parte superior, el volumen $V$  \n",
    "del agua es:    \n",
    "$$V = L \\left[ \\frac{\\pi r^2}{2} - \\underbrace{\\arcsin\\left(\\frac{h}{r}\\right)}_{\\text{ángulo}} - \\underbrace{h \\sqrt{r^2 - h^2}}_{\\text{segmento triangular}} \\right]$$  \n",
    "Suponga que 𝐿 = 10 𝑐𝑚, 𝑟 = 1 𝑐𝑚 y 𝑉 = 12.4 𝑐𝑚ଷ\n",
    "Encuentre la profundidad del agua en el abrevadero\n",
    "dentro de 0.01 𝑐𝑚.  \n"
   ]
  },
  {
   "cell_type": "code",
   "execution_count": 60,
   "id": "cbc7a180-ca2d-4b0a-99f6-54590581c720",
   "metadata": {},
   "outputs": [
    {
     "name": "stdout",
     "output_type": "stream",
     "text": [
      "La profundidad del agua es: 0.16796875 cm\n"
     ]
    }
   ],
   "source": [
    "import numpy as np\n",
    "\n",
    "def bisection_method(f, a, b, tol=1e-5):\n",
    "    while abs(b-a) > tol:\n",
    "        c = (a+b)/2\n",
    "        if f(c) == 0.0:\n",
    "            return c\n",
    "        elif f(a)*f(c) < 0:\n",
    "            b = c\n",
    "        else:\n",
    "            a = c\n",
    "    return (a+b)/2\n",
    "\n",
    "def V(h, L=10, r=1):\n",
    "    return L * (0.5 * np.pi * r**2 - r**2 * np.arcsin(h/r) - h * np.sqrt(r**2 - h**2)) - 12.4\n",
    "\n",
    "a, b = 0, 1  # Initial interval\n",
    "root = bisection_method(V, a, b, tol=0.01)\n",
    "print(f\"La profundidad del agua es: {root} cm\")"
   ]
  },
  {
   "cell_type": "markdown",
   "id": "2e7b20c7-851a-4b98-a6ca-c4a3f0f2ad89",
   "metadata": {},
   "source": [
    "2. Un objeto que cae verticalmente a través del aire está sujeto a una resistencia viscosa, así como a la fuerza de gravedad. Suponga que un objeto con masa $m$ cae desde una altura $s_0$ y que la altura del objeto después de $t$ segundos es $$s(t)=s_0 - \\frac{mg}{k}t + \\frac{m^2g}{k^2}(1-e^{-kt/m}),$$ donde $g=9.81m/s^2$ y $k$ representa el coeficiente de la resistencia del aire en $Ns/m$. Suponga $s_0=300m$, $m=0.25kg$ y $k=0.1Ns/m$. Encuentre dentro de $0.01\\space segundos$, el tiempo que tarda un cuarto de kg en golpear el piso."
   ]
  },
  {
   "cell_type": "code",
   "execution_count": 61,
   "id": "f7b261f9-0065-4c88-ae9e-ecef866dbd08",
   "metadata": {},
   "outputs": [
    {
     "name": "stdout",
     "output_type": "stream",
     "text": [
      "El tiempo que tarda en golpear el piso es aproximadamente: 14.7247314453125 segundos\n"
     ]
    }
   ],
   "source": [
    "import numpy as np\n",
    "altura_inicial = 300   \n",
    "masa = 0.25            \n",
    "gravedad = 9.81        \n",
    "constante_resistencia = 0.1  \n",
    "def altura(t):\n",
    "    return (\n",
    "        altura_inicial \n",
    "        - (masa * gravedad / constante_resistencia) * t \n",
    "        + (masa**2 * gravedad / constante_resistencia**2) * (1 - np.exp(-constante_resistencia * t / masa))\n",
    "    )\n",
    "limite_inferior, limite_superior = 0, 100  \n",
    "tolerancia = 0.01                          \n",
    "tiempo_impacto = metodo_biseccion(altura, limite_inferior, limite_superior, tolerancia)\n",
    "print(f\"El tiempo que tarda en golpear el piso es aproximadamente: {tiempo_impacto} segundos\")\n",
    "\n"
   ]
  },
  {
   "cell_type": "markdown",
   "id": "d3b00ae0-3a8f-40c9-92f7-f9b86de69173",
   "metadata": {},
   "source": [
    "## Ejercicios teóricos\n",
    "1. Use el teorrema 2.1 para encontrar una cota para el número de iteraciones necesarias para lograr una aproximación con precisión de $10^{-4}$ para la solución de $x^3-x-1=0$ que se encuentra dentro del intervalo $[1,2]$.Encuentre una aproximación para la raíz con este grado de precisión"
   ]
  },
  {
   "cell_type": "code",
   "execution_count": 62,
   "id": "08991a78-ac41-4a14-81a9-748932daf4e0",
   "metadata": {},
   "outputs": [
    {
     "name": "stdout",
     "output_type": "stream",
     "text": [
      "Iteraciones mínimas necesarias según el Teorema 2.1: 14\n",
      "La aproximación de la raíz es: 1.3247184753417969\n"
     ]
    }
   ],
   "source": [
    "import numpy as np\n",
    "def funcion(x):\n",
    "    return x**3 - x - 1\n",
    "limite_inferior, limite_superior = 1, 2  \n",
    "tolerancia = 1e-4                        \n",
    "iteraciones_minimas = int(np.ceil((np.log(limite_superior - limite_inferior) - np.log(tolerancia)) / np.log(2)))\n",
    "print(f\"Iteraciones mínimas necesarias según el Teorema 2.1: {iteraciones_minimas}\")\n",
    "aproximacion_raiz = metodo_biseccion(funcion, limite_inferior, limite_superior)\n",
    "print(f\"La aproximación de la raíz es: {aproximacion_raiz}\")\n",
    "\n"
   ]
  },
  {
   "cell_type": "markdown",
   "id": "007b1808",
   "metadata": {},
   "source": [
    "2. La función definida por 𝑓(𝑥) = sin 𝜋 𝑥 tiene ceros en cada entero. Muestre cuando −1 < 𝑎 < 0 y 2 < 𝑏 <\n",
    "3, el método de bisección converge a\n",
    "Describa cuál rango es más eficiente.\n",
    "a. 0, 𝑠𝑖 𝑎 + 𝑏 < 2 b. 2, 𝑠𝑖 𝑎 + 𝑏 > 2 c. 1, 𝑠𝑖 𝑎 + 𝑏 = 2"
   ]
  }
 ],
 "metadata": {
  "kernelspec": {
   "display_name": "Python 3",
   "language": "python",
   "name": "python3"
  },
  "language_info": {
   "codemirror_mode": {
    "name": "ipython",
    "version": 3
   },
   "file_extension": ".py",
   "mimetype": "text/x-python",
   "name": "python",
   "nbconvert_exporter": "python",
   "pygments_lexer": "ipython3",
   "version": "3.13.3"
  }
 },
 "nbformat": 4,
 "nbformat_minor": 5
}
