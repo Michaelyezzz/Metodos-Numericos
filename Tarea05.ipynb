{
 "cells": [
  {
   "cell_type": "markdown",
   "id": "4ad05c05",
   "metadata": {},
   "source": [
    "**ESCUELA POLITECNICA NACIONAL**\n",
    "\n",
    "\n",
    "**FACULTAD DE INGENIERIA DE SISTEMAS**\n",
    "\n",
    "| **Campo**        | **Información** |\n",
    "|------------------|-----------------|\n",
    "| **Nombre:**      |**Michael Yànez**|\n",
    "| **Asignatura:**  | **Metodos Nùmericos**  |\n",
    "| **Docente:**     | **Ing. Alejandro Zea**                |\n"
   ]
  },
  {
   "cell_type": "markdown",
   "id": "5627d6ee-d343-43da-8f8a-2d9b81846827",
   "metadata": {},
   "source": [
    "1. Sea $f(x)=-x^3-cos x$ y $p_0=-1$. Use el método de Newton y de la Secante para encontrar $p_2$.¿Se podría usar $p_0$=0?"
   ]
  },
  {
   "cell_type": "markdown",
   "id": "57300cf1-32b2-45b9-bf57-dd1eb68f4bd8",
   "metadata": {},
   "source": [
    "* Método de Newton"
   ]
  },
  {
   "cell_type": "code",
   "execution_count": 2,
   "id": "1b473bf4-733d-44dc-ac16-a851d5725e8d",
   "metadata": {},
   "outputs": [
    {
     "name": "stdout",
     "output_type": "stream",
     "text": [
      "La raíz encontrada es: -0.8654740331016144\n"
     ]
    }
   ],
   "source": [
    "from scipy.optimize import newton\n",
    "import math\n",
    "def funcion(x):\n",
    "    return -x**3 - math.cos(x)\n",
    "def derivada_funcion(x):\n",
    "    return -3 * x**2 + math.sin(x)\n",
    "x0 = -1\n",
    "raiz = newton(funcion, x0, fprime=derivada_funcion)\n",
    "print(f\"La raíz encontrada es: {raiz}\")\n",
    "\n"
   ]
  },
  {
   "cell_type": "markdown",
   "id": "e4e8b996-704e-4503-98ff-e0f1fa53f60d",
   "metadata": {},
   "source": [
    "* Método de la secante"
   ]
  },
  {
   "cell_type": "code",
   "execution_count": 3,
   "id": "97c504e9-4c73-47e1-8b04-18b68d486a56",
   "metadata": {},
   "outputs": [
    {
     "name": "stdout",
     "output_type": "stream",
     "text": [
      "La raíz encontrada es: -0.8654740331016144\n"
     ]
    }
   ],
   "source": [
    "from scipy.optimize import newton\n",
    "import math\n",
    "def funcion(x):\n",
    "    return -x**3 - math.cos(x)\n",
    "x0 = -1\n",
    "raiz = newton(funcion, x0)\n",
    "print(f\"La raíz encontrada es: {raiz}\")\n",
    "\n"
   ]
  },
  {
   "cell_type": "markdown",
   "id": "de00729b-93f0-41dd-861e-945594fad36a",
   "metadata": {},
   "source": [
    "Al utilizar $p_0=0$\n",
    "* Método de Newton\n",
    "\n",
    "Con el método de newton el sifuiente punto a evaluar se determina a través de la fórmula:\n",
    "$x_n=x_{n-1}-\\frac{f(x_{n-1})}{f'(x_{n-1})}$,  $n>=1$\n",
    "por lo tanto:\n",
    "$x_1=x_0-\\frac{f(x_0)}{f'(x_0)}$\n",
    "A continuación determinaremos la derivada de la función para evaluarla en cero:\n",
    "$f'(x)=sin(x)-3x^2$\n",
    "Al evaluar la derivada en el punto 0 obtendremos que el resultado es 0, como el método de newton intentará dividir para cero al determinar el siguiente valor del método resultará en un error.\n",
    "* Método de la secante\n",
    "\n",
    "Al utlizar el método de la secante el siguiente punto a evaluar se determina a través de la ecuación  \n",
    "$x_n=x_{n-1}-f(x_n-1)*\\frac{x_{n-1}-x{n-2}}{f(x_{n-1})-f(x_{n-2})}$\n",
    "dado que los puntos $x_{n-1}$ y $x_{n-2}$ son cercanos pero nunca iguales el programa seguirá su ejecución hasta determinar un punto que se determine como raíz de la función tomando en cuenta la tolerancia dada."
   ]
  },
  {
   "cell_type": "code",
   "execution_count": 4,
   "id": "c89d622a-70d7-491a-9f5b-37970ccff721",
   "metadata": {},
   "outputs": [
    {
     "name": "stdout",
     "output_type": "stream",
     "text": [
      "La raíz encontrada es: -4.998000183473029e-09\n"
     ]
    }
   ],
   "source": [
    "from scipy.optimize import newton\n",
    "import math\n",
    "def funcion(x):\n",
    "    return -x**3 - math.cos(x)\n",
    "x0 = 0\n",
    "raiz = newton(funcion, x0)\n",
    "print(f\"La raíz encontrada es: {raiz}\")\n"
   ]
  },
  {
   "cell_type": "markdown",
   "id": "365719f5-a300-474c-a4a7-eafaef499036",
   "metadata": {},
   "source": [
    "2. Encuentre soluciones precisas dentro de $10^{-4}$ para los siguientes problemas"
   ]
  },
  {
   "cell_type": "markdown",
   "id": "f92874cd-3af6-4e9f-a93f-44334837a2ba",
   "metadata": {},
   "source": [
    "a. $3x-e^x=0$ para $1<=x<=2$\n"
   ]
  },
  {
   "cell_type": "code",
   "execution_count": 7,
   "id": "af83ef41-ffc1-4b5c-9d1c-09ce11f8e503",
   "metadata": {},
   "outputs": [
    {
     "name": "stdout",
     "output_type": "stream",
     "text": [
      "La raíz encontrada es: 0.6190612833553125\n"
     ]
    }
   ],
   "source": [
    "from scipy.optimize import newton\n",
    "import math\n",
    "def funcion(x):\n",
    "    return 3*x-math.e**x\n",
    "def derivada_funcion(x):\n",
    "    return 3-math.e**x\n",
    "x0 = 0.5\n",
    "raiz = newton(funcion, x0, fprime=derivada_funcion, tol=1e-4)\n",
    "print(f\"La raíz encontrada es: {raiz}\")\n"
   ]
  },
  {
   "cell_type": "markdown",
   "id": "db1d49b9-7d62-4b6f-9b28-4c941dacbceb",
   "metadata": {},
   "source": [
    "b. $x^3+3x^2-1=0$, [-3,-2]"
   ]
  },
  {
   "cell_type": "code",
   "execution_count": 9,
   "id": "79737c16-c514-4a38-9834-31d9196d04a6",
   "metadata": {},
   "outputs": [
    {
     "name": "stdout",
     "output_type": "stream",
     "text": [
      "La raíz encontrada es: -2.8793852415718177\n"
     ]
    }
   ],
   "source": [
    "from scipy.optimize import newton\n",
    "import math\n",
    "def funcion(x):\n",
    "    return x**3+3*x**2-1\n",
    "def derivada_funcion(x):\n",
    "    return 3*x**2+6*x\n",
    "x0 = -3.5\n",
    "raiz = newton(funcion, x0, fprime=derivada_funcion, tol=1e-4)\n",
    "print(f\"La raíz encontrada es: {raiz}\")"
   ]
  },
  {
   "cell_type": "markdown",
   "id": "7b5774d7-279a-448f-8706-79e8b6c298fe",
   "metadata": {},
   "source": [
    "c. $x-cos x =0$ $[0,\\frac{\\pi}{2}]$"
   ]
  },
  {
   "cell_type": "code",
   "execution_count": 12,
   "id": "d7cdc9bb-30a6-4a1f-947a-67cb807c6450",
   "metadata": {},
   "outputs": [
    {
     "name": "stdout",
     "output_type": "stream",
     "text": [
      "La raíz encontrada es: 0.7390851332151607\n"
     ]
    }
   ],
   "source": [
    "from scipy.optimize import newton\n",
    "import math\n",
    "def funcion(x):\n",
    "    return x-math.cos(x)\n",
    "def derivada_funcion(x):\n",
    "    return math.sin(x)+1\n",
    "x0 = 1.2\n",
    "raiz = newton(funcion, x0, fprime=derivada_funcion, tol=1e-4)\n",
    "print(f\"La raíz encontrada es: {raiz}\")"
   ]
  },
  {
   "cell_type": "markdown",
   "id": "ac257933-8e94-44cc-bda3-0aa8710239d9",
   "metadata": {},
   "source": [
    "d. $x-0.8-0.2sen(x)=0$, $[0,\\frac{\\pi}{2}]$"
   ]
  },
  {
   "cell_type": "code",
   "execution_count": 14,
   "id": "3f93b9fa-e6f9-4503-ae36-468a2fffe5e3",
   "metadata": {},
   "outputs": [
    {
     "name": "stdout",
     "output_type": "stream",
     "text": [
      "La raíz encontrada es: 0.9643355390637215\n"
     ]
    }
   ],
   "source": [
    "from scipy.optimize import newton\n",
    "import math\n",
    "def funcion(x):\n",
    "    return x-0.8-0.2*math.sin(x)\n",
    "def derivada_funcion(x):\n",
    "    return 1-(math.sin(x)/5)+x-(4/5)\n",
    "x0 = 1.2\n",
    "raiz = newton(funcion, x0, fprime=derivada_funcion, tol=1e-4)\n",
    "print(f\"La raíz encontrada es: {raiz}\")"
   ]
  },
  {
   "cell_type": "markdown",
   "id": "079f0311-94cf-49f9-a779-47fd203c7996",
   "metadata": {},
   "source": [
    "3. Use los 2 métodos en esta sección para encontrar las soluciones dentro de $10^{-5}$ para los siguientes problemas"
   ]
  },
  {
   "cell_type": "markdown",
   "id": "35e34ffe-e7e2-4929-9755-f80593c5a051",
   "metadata": {},
   "source": [
    "a.$3x-e^x=0$ para $1<=x<=2$\n",
    "* Método de Newton\n"
   ]
  },
  {
   "cell_type": "code",
   "execution_count": 16,
   "id": "051fa50a-eb97-480b-973d-bc7cf8ed97d8",
   "metadata": {},
   "outputs": [
    {
     "name": "stdout",
     "output_type": "stream",
     "text": [
      "La raíz encontrada es: 1.5121345516578504\n"
     ]
    }
   ],
   "source": [
    "from scipy.optimize import newton\n",
    "import math\n",
    "def funcion(x):\n",
    "    return 3*x-math.e**x\n",
    "def derivada_funcion(x):\n",
    "    return 3-math.e**x\n",
    "x0 = 1.5\n",
    "raiz = newton(funcion, x0, fprime=derivada_funcion, tol=1e-4)\n",
    "print(f\"La raíz encontrada es: {raiz}\")"
   ]
  },
  {
   "cell_type": "markdown",
   "id": "abfaa533-893f-4a59-9a28-20a58e91640e",
   "metadata": {},
   "source": [
    "* Método de la secante\n"
   ]
  },
  {
   "cell_type": "code",
   "execution_count": 18,
   "id": "daee9f3d-67f2-428a-a0e6-180e37deddc9",
   "metadata": {},
   "outputs": [
    {
     "name": "stdout",
     "output_type": "stream",
     "text": [
      "La raíz encontrada es: 1.5121345516578502\n"
     ]
    }
   ],
   "source": [
    "from scipy.optimize import newton\n",
    "import math\n",
    "def funcion(x):\n",
    "    return 3*x-math.e**x\n",
    "x0 = 1.5\n",
    "raiz = newton(funcion, x0)\n",
    "print(f\"La raíz encontrada es: {raiz}\")"
   ]
  },
  {
   "cell_type": "markdown",
   "id": "d3063cdc-22a8-42f9-b282-3ba6f1d9e49c",
   "metadata": {},
   "source": [
    "b. $2x+3cosx -e^x$ para $1<=x<=2$"
   ]
  },
  {
   "cell_type": "markdown",
   "id": "3a4cf149-2588-4b79-be68-cf18ca4a140b",
   "metadata": {},
   "source": [
    "* Método de Newton"
   ]
  },
  {
   "cell_type": "code",
   "execution_count": 22,
   "id": "95641685-3023-4467-bc1e-c1dec1c1b475",
   "metadata": {},
   "outputs": [
    {
     "name": "stdout",
     "output_type": "stream",
     "text": [
      "La raíz encontrada es: 1.2397146979752212\n"
     ]
    }
   ],
   "source": [
    "from scipy.optimize import newton\n",
    "import math\n",
    "def funcion(x):\n",
    "    return 2 * x + 3 * math.cos(x) - math.exp(x)\n",
    "def derivada_funcion(x):\n",
    "    return -3 * math.sin(x) - math.exp(x) + 2\n",
    "x0 = 1.5\n",
    "raiz = newton(funcion, x0, fprime=derivada_funcion, tol=1e-4)\n",
    "print(f\"La raíz encontrada es: {raiz}\")\n"
   ]
  },
  {
   "cell_type": "markdown",
   "id": "b2a864b2-4c60-43d0-8650-2376fa7561e2",
   "metadata": {},
   "source": [
    "4. El polinomio de cuato grado\n",
    "\n",
    "$f(x)=230x^4+18x^3+9x^2-221x-9$\n",
    "\n",
    "tiene dos ceros reales, uno en $[-1,0]$ y el otro en $[0,]$.Intente aproximar estos ceros dentro de $10^{-6}$ con \n",
    "\n",
    "a. El método de la secante (use los extremos como las estimaciones iniciales)\n",
    "\n",
    "b. El método de Newton (use el punto medio como estimación inicial)"
   ]
  },
  {
   "cell_type": "markdown",
   "id": "93255635-77f0-4b43-a6c9-45491535fa83",
   "metadata": {},
   "source": [
    "* Método de Newton"
   ]
  },
  {
   "cell_type": "code",
   "execution_count": 25,
   "id": "f5983904-a5f3-4c5d-a23c-89873129b229",
   "metadata": {},
   "outputs": [
    {
     "name": "stdout",
     "output_type": "stream",
     "text": [
      "La raíz encontrada es: -0.04065928831575899\n"
     ]
    }
   ],
   "source": [
    "from scipy.optimize import newton\n",
    "import math\n",
    "def funcion(x):\n",
    "    return 230*x**4+18*x**3+9*x**2-221*x-9\n",
    "def derivada_funcion(x):\n",
    "    return 920*x**3+54*x**2+18*x-221\n",
    "x0 = -0.5\n",
    "raiz = newton(funcion, x0, fprime=derivada_funcion, tol=1e-6)\n",
    "print(f\"La raíz encontrada es: {raiz}\")\n"
   ]
  },
  {
   "cell_type": "markdown",
   "id": "a836c960-f491-4cbc-92d8-9fbe845d3fbf",
   "metadata": {},
   "source": [
    "* Método de la secante"
   ]
  },
  {
   "cell_type": "code",
   "execution_count": 1,
   "id": "9c093939-df1a-41c0-8d0e-cc118c688f4c",
   "metadata": {},
   "outputs": [
    {
     "name": "stdout",
     "output_type": "stream",
     "text": [
      "La raíz encontrada es: -0.04065928831575775\n"
     ]
    }
   ],
   "source": [
    "from scipy.optimize import newton\n",
    "import math\n",
    "def funcion(x):\n",
    "    return 230 * x**4 + 18 * x**3 + 9 * x**2 - 221 * x - 9\n",
    "x0 = -1\n",
    "x1 = 0\n",
    "raiz = newton(funcion, x0, x1=x1)\n",
    "print(f\"La raíz encontrada es: {raiz}\")\n"
   ]
  },
  {
   "cell_type": "markdown",
   "id": "27e3ae53-f364-4c9d-bd12-a567bac3b944",
   "metadata": {},
   "source": [
    "5.La función $f(x)=tan(\\pi x) -6$ tiene cero en $(\\frac{1}{\\pi})$ arcotnagente 6 ≈ 0.447431543. Sea $p_0=0$ y $p_1=0.48$ y use 10 iteraciones en cada uno de los siguientes métodos para aproximar esta raíz. . ¿Cuál método es más eficaz y por qué? "
   ]
  },
  {
   "cell_type": "markdown",
   "id": "81cf06c9-8fcc-42ea-bf97-7d03bc97e4d5",
   "metadata": {},
   "source": [
    "a. Método de la bisección"
   ]
  },
  {
   "cell_type": "code",
   "execution_count": 21,
   "id": "478335db-74e9-48f0-bdd9-f679d5e54568",
   "metadata": {},
   "outputs": [
    {
     "name": "stdout",
     "output_type": "stream",
     "text": [
      "Error: Failed to converge after 10 iterations.\n",
      "Valor en el que se quedó: 0.44743154328874873\n"
     ]
    }
   ],
   "source": [
    "from scipy.optimize import bisect\n",
    "import math\n",
    "def f(x):\n",
    "    return math.tan(math.pi * x) - 6\n",
    "a = 0  \n",
    "b = 0.48  \n",
    "tol = 1e-6 \n",
    "max_iters = 10\n",
    "try:\n",
    "    raiz = bisect(f, a, b, xtol=tol, maxiter=max_iters, full_output=True)\n",
    "    print(f\"La raíz aproximada es: {raiz}\")\n",
    "except RuntimeError as e:\n",
    "    print(f\"Error: {e}\")\n",
    "    print(f\"Valor en el que se quedó: {raiz}\")\n",
    "\n"
   ]
  },
  {
   "cell_type": "markdown",
   "id": "123ff261-9676-473b-a63e-7d59cbf8f986",
   "metadata": {},
   "source": [
    "b. Método de Newton"
   ]
  },
  {
   "cell_type": "code",
   "execution_count": 8,
   "id": "417ba5f0-dfa7-4879-bd96-7ab90e00dfd7",
   "metadata": {},
   "outputs": [
    {
     "name": "stdout",
     "output_type": "stream",
     "text": [
      "Error: Failed to converge after 10 iterations, value is 13.655012218324751.\n"
     ]
    }
   ],
   "source": [
    "from scipy.optimize import newton\n",
    "import math\n",
    "def f(x):\n",
    "    return math.tan(math.pi * x) - 6\n",
    "def df(x):\n",
    "    return math.pi * (1 / math.cos(math.pi * x))**2\n",
    "x0 = 0 \n",
    "try:\n",
    "    raiz = newton(f, x0, fprime=df, tol=1e-6, maxiter=10)\n",
    "    print(f\"La raíz aproximada es: {raiz}\")\n",
    "except RuntimeError as e:\n",
    "    print(f\"Error: {e}\")\n"
   ]
  },
  {
   "cell_type": "markdown",
   "id": "470ea007-5c02-49cb-a5d3-997ee1b73217",
   "metadata": {},
   "source": [
    "c. Método de la secante"
   ]
  },
  {
   "cell_type": "code",
   "execution_count": 33,
   "id": "d0ef1e87-724a-460c-9cf0-d254960a68ff",
   "metadata": {},
   "outputs": [
    {
     "name": "stdout",
     "output_type": "stream",
     "text": [
      "Error: Failed to converge after 10 iterations, value is -3694.358600967476.\n"
     ]
    }
   ],
   "source": [
    "from scipy.optimize import newton\n",
    "import math\n",
    "def f(x):\n",
    "    return math.tan(math.pi * x) - 6\n",
    "x0 = 0  \n",
    "x1 = 0.48  \n",
    "try:\n",
    "    raiz = newton(f, x0, x1=x1, tol=1e-6, maxiter=10)\n",
    "    print(f\"La raíz aproximada es: {raiz}\")\n",
    "except RuntimeError as e:\n",
    "    print(f\"Error: {e}\")\n"
   ]
  },
  {
   "cell_type": "markdown",
   "id": "4fd3aa32-b31d-4a3b-a9ae-1bce3e604502",
   "metadata": {},
   "source": [
    "6. La función $f(x)=ln(x^2+1)-e^{0.4x}cos(\\pi*x)$ tiene un número infinito de ceros."
   ]
  },
  {
   "cell_type": "markdown",
   "id": "5e143ec4-7ac8-43ab-ae9c-3401cbf60ca2",
   "metadata": {},
   "source": [
    "a. Determine dentro de $10^{-6}$, el único cero negativo"
   ]
  },
  {
   "cell_type": "code",
   "execution_count": 5,
   "id": "e5a50a5e-4c02-4d3d-ad4f-3987986c7b8c",
   "metadata": {},
   "outputs": [
    {
     "name": "stdout",
     "output_type": "stream",
     "text": [
      "La raíz aproximada es: 3.6380349014923588\n",
      "La raíz aproximada es: 6.406933614144502\n",
      "La raíz aproximada es: 0.45065674788805005\n",
      "La raíz aproximada es: 0.45065674788899096\n",
      "La raíz aproximada es: 3.709041201375954\n",
      "La raíz aproximada es: 0.45065674789008753\n",
      "La raíz aproximada es: -0.4341430472855665\n"
     ]
    }
   ],
   "source": [
    "from scipy.optimize import newton\n",
    "import math\n",
    "def f(x):\n",
    "    return math.log(x**2+1)-math.e**(0.4*x)*math.cos(math.pi*x)\n",
    "x0 = 0  \n",
    "x1 = 0.48  \n",
    "raiz=0.1\n",
    "while raiz>0:\n",
    "    x0-=1\n",
    "    try:\n",
    "        raiz = newton(f, x0, x1=x1, tol=1e-6)\n",
    "        print(f\"La raíz aproximada es: {raiz}\")\n",
    "    except RuntimeError as e:\n",
    "        print(f\"Error: {e}\")\n",
    "        "
   ]
  },
  {
   "cell_type": "markdown",
   "id": "577cdade-2624-433a-ab41-ca020556724c",
   "metadata": {},
   "source": [
    "b. Determine, dentro de $10^{-6}$, los cuatro ceros positivos más pequeños"
   ]
  },
  {
   "cell_type": "code",
   "execution_count": 17,
   "id": "f3053a7a-b7bc-4bc4-91f9-33da0bfe3394",
   "metadata": {},
   "outputs": [
    {
     "name": "stdout",
     "output_type": "stream",
     "text": [
      "La raíz aproximada es: 0.45065674788992754\n",
      "La raíz aproximada es: 3.7090412013759475\n",
      "La raíz aproximada es: 1.744738053388946\n",
      "La raíz aproximada es: 2.2383197950741427\n",
      "[0.4507, 3.709, 1.7447, 2.2383]\n"
     ]
    }
   ],
   "source": [
    "from scipy.optimize import newton\n",
    "import math\n",
    "def f(x):\n",
    "    return math.log(x**2 + 1) - math.e**(0.4 * x) * math.cos(math.pi * x)\n",
    "x0 = 0  \n",
    "x1 = 0.48  \n",
    "menor = []\n",
    "while len(menor) < 4:\n",
    "    x0 += 0.01\n",
    "    try:\n",
    "        raiz = newton(f, x0, x1=x1, tol=1e-6)\n",
    "        if round(raiz,4) not in menor and raiz>0:\n",
    "            menor.append(round(raiz,4))\n",
    "            print(f\"La raíz aproximada es: {raiz}\")\n",
    "    except RuntimeError as e:\n",
    "        print(f\"Error: {e}\")\n",
    "print(menor)\n"
   ]
  },
  {
   "cell_type": "markdown",
   "id": "6773badb-09da-4cfc-85f3-4c5c2a78bd39",
   "metadata": {},
   "source": [
    "c. Determine una aproximación inicial razonable para encontrar el enésimo cero positivo más pequeño de f."
   ]
  },
  {
   "cell_type": "markdown",
   "id": "30415b6e-c4bd-41cb-9fd9-a28c8bc8f742",
   "metadata": {},
   "source": [
    "Para obtener dicha aproximación se puede utilizar la gráfica aproximada de la función con el objetivo de entender el comportamiento de los ceros de la función"
   ]
  },
  {
   "cell_type": "code",
   "execution_count": 29,
   "id": "55399f68-98f6-4076-927d-dae125e330a7",
   "metadata": {},
   "outputs": [
    {
     "data": {
      "image/png": "[encoded data removed]",
      "text/plain": [
       "<Figure size 640x480 with 1 Axes>"
      ]
     },
     "metadata": {},
     "output_type": "display_data"
    }
   ],
   "source": [
    "import numpy as np\n",
    "import matplotlib.pyplot as plt\n",
    "import math\n",
    "def f(x):\n",
    "    return math.log(x**2 + 1) - math.e**(0.4 * x) * math.cos(math.pi * x)\n",
    "xv = np.linspace(0, 20, 1000)\n",
    "y = [f(x) for x in xv]\n",
    "plt.plot(xv, y)\n",
    "plt.grid(True)\n",
    "plt.xlabel(\"x\")\n",
    "plt.ylabel(\"f(x)\")\n",
    "plt.title(\"Gráfica de la función\")\n",
    "plt.show()\n"
   ]
  },
  {
   "cell_type": "markdown",
   "id": "b5b89137-7cf3-4eb0-8a93-9cd2759cca0f",
   "metadata": {},
   "source": [
    "A través de la gráfica es posible apreciar como los ceros de la función se encuentran cercanos a múltiplos de 1 debido a que la función tiene una especie de periocidad dada por el $cos(\\pi*x)$."
   ]
  },
  {
   "cell_type": "markdown",
   "id": "a3881c39-1938-4873-baee-efae28d490a6",
   "metadata": {},
   "source": [
    "d. Use la parte c) para determinar dentro de $10^{-6}$ , el vigésimo quinto cero positivo más pequeño de f."
   ]
  },
  {
   "cell_type": "code",
   "execution_count": 2,
   "id": "91fe2570-b1ea-4aa2-b071-f1a9b9ddabe8",
   "metadata": {},
   "outputs": [
    {
     "name": "stdout",
     "output_type": "stream",
     "text": [
      " Se ha encontrado una raíz em :14.49483105099586\n"
     ]
    }
   ],
   "source": [
    "from scipy.optimize import newton\n",
    "import math\n",
    "def f(x):\n",
    "    return math.log(x**2 + 1) - math.e**(0.4 * x) * math.cos(math.pi * x)\n",
    "x0 = 15 \n",
    "x1 = 15.1\n",
    "print(f' Se ha encontrado una raíz em :{newton(f, x0, x1=x1, tol=1e-6)}')\n"
   ]
  },
  {
   "cell_type": "markdown",
   "id": "83d450bf-a181-4904-998c-889a41d18549",
   "metadata": {},
   "source": [
    "7. La función $f(x)=x^{\\frac{1}{3}}$ tiene raíz en x=0. Usando el punto de inicio de x =1 y $p_0=5$, $p_1=0.5$ para el método de la secante, compare los resultados de los métodos de la secante y de newton"
   ]
  },
  {
   "cell_type": "code",
   "execution_count": 31,
   "id": "5bd1156d-9c21-4d8d-997c-31424f805b74",
   "metadata": {},
   "outputs": [
    {
     "name": "stdout",
     "output_type": "stream",
     "text": [
      "El resultado obtenido a través del método de Newton es:\n",
      "Se ha encontrado una raíz en nan\n",
      "Información adicional:       converged: False\n",
      "           flag: convergence error\n",
      " function_calls: 100\n",
      "     iterations: 50\n",
      "           root: nan\n",
      "         method: newton\n",
      "El resultado obtenido a través del método de la secante es:\n",
      "Error: Failed to converge after 50 iterations, value is nan.\n"
     ]
    }
   ],
   "source": [
    "import warnings\n",
    "def f(x):\n",
    "    return x**(1/3) \n",
    "def f_prime(x):\n",
    "    return 1 / (3 * x**(2/3))  \n",
    "x0 = 1\n",
    "print('El resultado obtenido a través del método de Newton es:')\n",
    "try:\n",
    "    with warnings.catch_warnings():\n",
    "        warnings.simplefilter(\"ignore\", RuntimeWarning)\n",
    "        resultado, info = newton(f, x0, fprime=f_prime, tol=1e-6, full_output=True, disp=False)\n",
    "        print(f'Se ha encontrado una raíz en {resultado}')\n",
    "        print(f'Información adicional: {info}')\n",
    "except RuntimeError as e:\n",
    "    print(f\"Error: {e}\")\n",
    "print('El resultado obtenido a través del método de la secante es:')\n",
    "try:\n",
    "    with warnings.catch_warnings():\n",
    "        warnings.simplefilter(\"ignore\", RuntimeWarning)\n",
    "        resultado, info = newton(f, x0=5, x1=0.5,full_output=True,disp=True)\n",
    "        print(f'Se ha encontrado una raíz en {resultado}')\n",
    "        print(f'Información adicional: {info}')\n",
    "except RuntimeError as e:\n",
    "    print(f\"Error: {e}\")\n"
   ]
  },
  {
   "cell_type": "markdown",
   "id": "b792587f-2cdf-4115-8a98-242b6f2dbecb",
   "metadata": {},
   "source": [
    "En este caso ninguno de los métodos logra converger a la raíz de la función, en el caso del método de Newton esto se debe al comportamiento de la derivada de la función, cuando x se acerca a 0 la derivada tiende al infinito impidiendo que el método converga en la raíz 0, mientras que el método de la secante no logra encontrar la raíz debido a que en esos puntos el comportamiento de la función no es estable evitando que el método logre encontrar el punto 0."
   ]
  }
 ],
 "metadata": {
  "kernelspec": {
   "display_name": "Python 3 (ipykernel)",
   "language": "python",
   "name": "python3"
  },
  "language_info": {
   "codemirror_mode": {
    "name": "ipython",
    "version": 3
   },
   "file_extension": ".py",
   "mimetype": "text/x-python",
   "name": "python",
   "nbconvert_exporter": "python",
   "pygments_lexer": "ipython3",
   "version": "3.12.7"
  }
 },
 "nbformat": 4,
 "nbformat_minor": 5
}
